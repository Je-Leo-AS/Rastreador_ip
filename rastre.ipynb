{
 "cells": [
  {
   "cell_type": "code",
   "execution_count": 1,
   "metadata": {},
   "outputs": [],
   "source": [
    "from urllib.request import urlopen\n",
    "import sys"
   ]
  },
  {
   "cell_type": "code",
   "execution_count": 5,
   "metadata": {},
   "outputs": [],
   "source": [
    "try:\n",
    "    ip = \"10.1.10.53\"\n",
    "\n",
    "    if ip:\n",
    "        url = f\"http://ip-api.com/json/{ip}\"\n",
    "\n",
    "        request = urlopen(url)\n",
    "        data = request.read().decode()\n",
    "\n",
    "        data = eval(data)\n",
    "\n",
    "except Exception as ex:\n",
    "        print(f\"Error: {ex}\")\n"
   ]
  },
  {
   "cell_type": "code",
   "execution_count": 6,
   "metadata": {},
   "outputs": [
    {
     "name": "stdout",
     "output_type": "stream",
     "text": [
      "status == fail\n",
      "message == private range\n",
      "query == 10.1.10.53\n"
     ]
    }
   ],
   "source": [
    "for i in data:\n",
    "    print(f\"{i} == {data[i]}\")"
   ]
  }
 ],
 "metadata": {
  "kernelspec": {
   "display_name": "Python 3",
   "language": "python",
   "name": "python3"
  },
  "language_info": {
   "codemirror_mode": {
    "name": "ipython",
    "version": 3
   },
   "file_extension": ".py",
   "mimetype": "text/x-python",
   "name": "python",
   "nbconvert_exporter": "python",
   "pygments_lexer": "ipython3",
   "version": "3.11.0 (main, Oct 24 2022, 18:26:48) [MSC v.1933 64 bit (AMD64)]"
  },
  "orig_nbformat": 4,
  "vscode": {
   "interpreter": {
    "hash": "36e62440cb93b81495312204c784b5b5d15c6b50967c5be1aae88bbecbff278a"
   }
  }
 },
 "nbformat": 4,
 "nbformat_minor": 2
}
